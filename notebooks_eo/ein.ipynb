{
 "cells": [
  {
   "cell_type": "code",
   "execution_count": 3,
   "id": "2386d8d3-1da0-4a9b-b61c-184684bb3d27",
   "metadata": {},
   "outputs": [],
   "source": [
    "from gbmi.utils import ein"
   ]
  },
  {
   "cell_type": "code",
   "execution_count": 5,
   "id": "c69c5e1f-f702-4d2a-9bb9-1767181aeb91",
   "metadata": {},
   "outputs": [],
   "source": [
    "import torch\n",
    "\n",
    "A = torch.rand(4, 5)\n",
    "B = torch.rand(5, 6)"
   ]
  },
  {
   "cell_type": "code",
   "execution_count": 7,
   "id": "d6aa820e-727f-431c-9a89-4a8554b6342d",
   "metadata": {},
   "outputs": [],
   "source": [
    "from typing import List\n",
    "\n",
    "graph = None\n",
    "\n",
    "\n",
    "def custom_backend(gm: torch.fx.GraphModule, example_inputs: List[torch.Tensor]):\n",
    "    global graph\n",
    "    print(\"custom backend called with FX graph:\")\n",
    "    graph = gm\n",
    "    return gm.forward\n",
    "\n",
    "\n",
    "# Reset since we are using a different backend.\n",
    "torch._dynamo.reset()"
   ]
  },
  {
   "cell_type": "code",
   "execution_count": 8,
   "id": "ec922407-7aca-4f5c-9ce6-3f7f90908571",
   "metadata": {},
   "outputs": [],
   "source": [
    "def model(x):\n",
    "    return A @ x\n",
    "\n",
    "\n",
    "opt_model = torch.compile(model, backend=custom_backend)"
   ]
  },
  {
   "cell_type": "code",
   "execution_count": 9,
   "id": "2589895f-c8f3-4ad0-aad8-e25d78b704b6",
   "metadata": {},
   "outputs": [
    {
     "name": "stdout",
     "output_type": "stream",
     "text": [
      "custom backend called with FX graph:\n"
     ]
    },
    {
     "data": {
      "text/plain": [
       "tensor([[1.3877, 1.6426, 1.3159, 1.8250, 1.5599, 1.2425],\n",
       "        [0.8879, 0.8428, 0.5298, 0.8087, 0.6971, 0.9310],\n",
       "        [0.5792, 0.7911, 0.6740, 0.8534, 0.6334, 0.5789],\n",
       "        [1.3163, 1.2260, 1.3549, 1.6138, 1.0785, 1.0069]])"
      ]
     },
     "execution_count": 9,
     "metadata": {},
     "output_type": "execute_result"
    }
   ],
   "source": [
    "opt_model(B)"
   ]
  },
  {
   "cell_type": "code",
   "execution_count": 10,
   "id": "939adccb-de10-4d64-97f2-b6dd5ccd391b",
   "metadata": {},
   "outputs": [
    {
     "ename": "AttributeError",
     "evalue": "'Graph' object has no attribute 'node'",
     "output_type": "error",
     "traceback": [
      "\u001b[0;31m---------------------------------------------------------------------------\u001b[0m",
      "\u001b[0;31mAttributeError\u001b[0m                            Traceback (most recent call last)",
      "Cell \u001b[0;32mIn[10], line 1\u001b[0m\n\u001b[0;32m----> 1\u001b[0m \u001b[43mgraph\u001b[49m\u001b[38;5;241;43m.\u001b[39;49m\u001b[43mgraph\u001b[49m\u001b[38;5;241;43m.\u001b[39;49m\u001b[43mnode\u001b[49m\n",
      "\u001b[0;31mAttributeError\u001b[0m: 'Graph' object has no attribute 'node'"
     ]
    }
   ],
   "source": [
    "graph.graph.node"
   ]
  },
  {
   "cell_type": "code",
   "execution_count": 11,
   "id": "9c3696d5-1403-42c5-b3fa-f6b17310c787",
   "metadata": {},
   "outputs": [
    {
     "ename": "ValueError",
     "evalue": "dimension dim is unbound",
     "output_type": "error",
     "traceback": [
      "\u001b[0;31m---------------------------------------------------------------------------\u001b[0m",
      "\u001b[0;31mValueError\u001b[0m                                Traceback (most recent call last)",
      "Cell \u001b[0;32mIn[11], line 1\u001b[0m\n\u001b[0;32m----> 1\u001b[0m \u001b[43mein\u001b[49m\u001b[38;5;241;43m.\u001b[39;49m\u001b[43marray\u001b[49m\u001b[43m(\u001b[49m\u001b[38;5;28;43;01mlambda\u001b[39;49;00m\u001b[43m \u001b[49m\u001b[43mi\u001b[49m\u001b[43m:\u001b[49m\u001b[43m \u001b[49m\u001b[43mtorch\u001b[49m\u001b[38;5;241;43m.\u001b[39;49m\u001b[43mexp\u001b[49m\u001b[43m(\u001b[49m\u001b[43mi\u001b[49m\u001b[43m)\u001b[49m\u001b[43m \u001b[49m\u001b[38;5;241;43m+\u001b[39;49m\u001b[43m \u001b[49m\u001b[43mB\u001b[49m\u001b[43m[\u001b[49m\u001b[43mi\u001b[49m\u001b[43m]\u001b[49m\u001b[43m)\u001b[49m\n",
      "File \u001b[0;32m~/Projects/gbmi/gbmi/utils/ein.py:46\u001b[0m, in \u001b[0;36marray\u001b[0;34m(f, sizes)\u001b[0m\n\u001b[1;32m     43\u001b[0m \u001b[38;5;28;01mdef\u001b[39;00m \u001b[38;5;21marray\u001b[39m(\n\u001b[1;32m     44\u001b[0m     f: Callable[\u001b[38;5;241m.\u001b[39m\u001b[38;5;241m.\u001b[39m\u001b[38;5;241m.\u001b[39m, Tensor], sizes: Optional[List[Optional[\u001b[38;5;28mint\u001b[39m]]] \u001b[38;5;241m=\u001b[39m \u001b[38;5;28;01mNone\u001b[39;00m\n\u001b[1;32m     45\u001b[0m ) \u001b[38;5;241m-\u001b[39m\u001b[38;5;241m>\u001b[39m Tensor:\n\u001b[0;32m---> 46\u001b[0m     \u001b[38;5;28;01mreturn\u001b[39;00m \u001b[43mapply\u001b[49m\u001b[43m(\u001b[49m\u001b[43mf\u001b[49m\u001b[43m,\u001b[49m\u001b[43m \u001b[49m\u001b[43mcollect\u001b[49m\u001b[38;5;241;43m=\u001b[39;49m\u001b[38;5;28;43;01mlambda\u001b[39;49;00m\u001b[43m \u001b[49m\u001b[43mxs\u001b[49m\u001b[43m,\u001b[49m\u001b[43m \u001b[49m\u001b[43md\u001b[49m\u001b[43m:\u001b[49m\u001b[43m \u001b[49m\u001b[43mxs\u001b[49m\u001b[38;5;241;43m.\u001b[39;49m\u001b[43morder\u001b[49m\u001b[43m(\u001b[49m\u001b[43md\u001b[49m\u001b[43m)\u001b[49m\u001b[43m,\u001b[49m\u001b[43m \u001b[49m\u001b[43msizes\u001b[49m\u001b[38;5;241;43m=\u001b[39;49m\u001b[43msizes\u001b[49m\u001b[43m)\u001b[49m\n",
      "File \u001b[0;32m~/Projects/gbmi/gbmi/utils/ein.py:19\u001b[0m, in \u001b[0;36mapply\u001b[0;34m(f, collect, sizes)\u001b[0m\n\u001b[1;32m     17\u001b[0m dim \u001b[38;5;241m=\u001b[39m dims(sizes\u001b[38;5;241m=\u001b[39m[sizes[\u001b[38;5;241m0\u001b[39m]])\n\u001b[1;32m     18\u001b[0m \u001b[38;5;28;01mif\u001b[39;00m n_args \u001b[38;5;241m==\u001b[39m \u001b[38;5;241m1\u001b[39m:\n\u001b[0;32m---> 19\u001b[0m     xs \u001b[38;5;241m=\u001b[39m \u001b[43mf\u001b[49m\u001b[43m(\u001b[49m\u001b[43mdim\u001b[49m\u001b[43m)\u001b[49m\n\u001b[1;32m     20\u001b[0m \u001b[38;5;28;01melse\u001b[39;00m:\n\u001b[1;32m     21\u001b[0m     xs \u001b[38;5;241m=\u001b[39m apply(partial(f, dim), collect, sizes[\u001b[38;5;241m1\u001b[39m:])\n",
      "Cell \u001b[0;32mIn[11], line 1\u001b[0m, in \u001b[0;36m<lambda>\u001b[0;34m(i)\u001b[0m\n\u001b[0;32m----> 1\u001b[0m ein\u001b[38;5;241m.\u001b[39marray(\u001b[38;5;28;01mlambda\u001b[39;00m i: \u001b[43mtorch\u001b[49m\u001b[38;5;241;43m.\u001b[39;49m\u001b[43mexp\u001b[49m\u001b[43m(\u001b[49m\u001b[43mi\u001b[49m\u001b[43m)\u001b[49m \u001b[38;5;241m+\u001b[39m B[i])\n",
      "\u001b[0;31mValueError\u001b[0m: dimension dim is unbound"
     ]
    }
   ],
   "source": [
    "ein.array(lambda i: torch.exp(i) + B[i])"
   ]
  },
  {
   "cell_type": "code",
   "execution_count": 12,
   "id": "e28a4534-a0be-42ce-92b8-643a3a1875ea",
   "metadata": {},
   "outputs": [],
   "source": [
    "from torch import Tensor"
   ]
  },
  {
   "cell_type": "code",
   "execution_count": 13,
   "id": "038b00f2-528c-49ee-9fe8-1d47a0371dc9",
   "metadata": {},
   "outputs": [],
   "source": [
    "import logging\n",
    "\n",
    "\n",
    "def add_constraint(tensor, size):\n",
    "    if hasattr(tensor, \"_constraints\"):\n",
    "        tensor._constraints.add(size)\n",
    "    else:\n",
    "        tensor._constraints = {size}\n",
    "\n",
    "\n",
    "class ConstraintTrackingTensor(torch.Tensor):\n",
    "    @classmethod\n",
    "    def __torch_function__(cls, func, types, args=(), kwargs=None):\n",
    "        # NOTE: Logging calls Tensor.__repr__, so we can't log __repr__ without infinite recursion\n",
    "        if func.__name__ == \"__getitem__\":\n",
    "            for size, index in zip(args[0].shape, args[1]):\n",
    "                add_constraint(index, size)\n",
    "        if kwargs is None:\n",
    "            kwargs = {}\n",
    "        return super().__torch_function__(func, types, args, kwargs)"
   ]
  },
  {
   "cell_type": "code",
   "execution_count": 15,
   "id": "7584f569-7b77-40b7-bd77-ce2cc562fedb",
   "metadata": {},
   "outputs": [
    {
     "data": {
      "text/plain": [
       "{5}"
      ]
     },
     "execution_count": 15,
     "metadata": {},
     "output_type": "execute_result"
    }
   ],
   "source": [
    "idx = ConstraintTrackingTensor(torch.tensor(0))\n",
    "(lambda i: torch.exp(i) + B[i])(idx)\n",
    "idx._constraints"
   ]
  },
  {
   "cell_type": "code",
   "execution_count": 194,
   "id": "aa6e2fdb-5f17-485e-8f05-bcc1d864da7e",
   "metadata": {},
   "outputs": [
    {
     "data": {
      "text/plain": [
       "{5}"
      ]
     },
     "execution_count": 194,
     "metadata": {},
     "output_type": "execute_result"
    }
   ],
   "source": [
    "idx._constraints"
   ]
  },
  {
   "cell_type": "code",
   "execution_count": 145,
   "id": "07e49a14-effd-439a-8e51-06f03e7ede9e",
   "metadata": {},
   "outputs": [],
   "source": [
    "class MetadataTensor(object):\n",
    "    def __init__(self, data, metadata=None, **kwargs):\n",
    "        self._t = torch.as_tensor(data, **kwargs)\n",
    "        self._metadata = metadata\n",
    "\n",
    "    def __repr__(self):\n",
    "        return \"Metadata:\\n{}\\n\\ndata:\\n{}\".format(self._metadata, self._t)\n",
    "\n",
    "    @classmethod\n",
    "    def __torch_function__(cls, func, types, args=(), kwargs=None):\n",
    "        print(\"---\")\n",
    "        print(cls, func)\n",
    "        print(\"===\")\n",
    "        for i in args:\n",
    "            print(\"+++\")\n",
    "            print(i)\n",
    "        if kwargs is None:\n",
    "            kwargs = {}\n",
    "        args_flat = torch.utils._pytree.tree_flatten(args)[0]\n",
    "        print(\"flat\", args_flat)\n",
    "        metadatas = tuple(a._metadata for a in args_flat if hasattr(a, \"_metadata\"))\n",
    "        print(\"m\", metadatas)\n",
    "        args = torch.utils._pytree.tree_map(lambda x: getattr(x, \"_t\", x), args)\n",
    "        ret = func(*args, **kwargs)\n",
    "        return MetadataTensor(ret, metadata=metadatas[0])"
   ]
  },
  {
   "cell_type": "code",
   "execution_count": 146,
   "id": "6bb1a719-9a0b-4030-a601-e99d51ec025f",
   "metadata": {},
   "outputs": [],
   "source": [
    "metadata = {\"owner\": \"Ministry of Silly Walks\"}\n",
    "m = MetadataTensor(1, metadata=metadata)"
   ]
  },
  {
   "cell_type": "code",
   "execution_count": 147,
   "id": "4c2d5883-626c-4861-b0f4-7d2e4fc1f0df",
   "metadata": {
    "scrolled": true
   },
   "outputs": [
    {
     "name": "stdout",
     "output_type": "stream",
     "text": [
      "---\n",
      "<class '__main__.MetadataTensor'> <built-in method exp of type object at 0x118d3a9b8>\n",
      "===\n",
      "+++\n",
      "Metadata:\n",
      "x\n",
      "\n",
      "data:\n",
      "0\n",
      "flat [Metadata:\n",
      "x\n",
      "\n",
      "data:\n",
      "0]\n",
      "m ('x',)\n",
      "---\n",
      "<class '__main__.MetadataTensor'> <slot wrapper '__getitem__' of 'torch._C.TensorBase' objects>\n",
      "===\n",
      "+++\n",
      "tensor([[4.3073e-01, 1.0403e-01, 2.3399e-01, 6.8633e-01, 5.2392e-01, 4.5291e-01],\n",
      "        [1.5897e-01, 9.5502e-01, 4.0753e-01, 2.8613e-01, 4.4343e-01, 8.0154e-01],\n",
      "        [3.4549e-01, 3.7140e-01, 1.0447e-01, 8.2847e-01, 3.9709e-04, 9.5640e-01],\n",
      "        [7.1253e-01, 3.9568e-01, 2.2937e-01, 4.5929e-01, 5.2071e-01, 8.7025e-01],\n",
      "        [2.3285e-01, 6.2969e-02, 8.1768e-01, 3.2309e-01, 6.9715e-03, 9.8854e-01]])\n",
      "+++\n",
      "(Metadata:\n",
      "x\n",
      "\n",
      "data:\n",
      "0,)\n",
      "flat [tensor([[4.3073e-01, 1.0403e-01, 2.3399e-01, 6.8633e-01, 5.2392e-01, 4.5291e-01],\n",
      "        [1.5897e-01, 9.5502e-01, 4.0753e-01, 2.8613e-01, 4.4343e-01, 8.0154e-01],\n",
      "        [3.4549e-01, 3.7140e-01, 1.0447e-01, 8.2847e-01, 3.9709e-04, 9.5640e-01],\n",
      "        [7.1253e-01, 3.9568e-01, 2.2937e-01, 4.5929e-01, 5.2071e-01, 8.7025e-01],\n",
      "        [2.3285e-01, 6.2969e-02, 8.1768e-01, 3.2309e-01, 6.9715e-03, 9.8854e-01]]), Metadata:\n",
      "x\n",
      "\n",
      "data:\n",
      "0]\n",
      "m ('x',)\n"
     ]
    },
    {
     "ename": "TypeError",
     "evalue": "unsupported operand type(s) for +: 'MetadataTensor' and 'MetadataTensor'",
     "output_type": "error",
     "traceback": [
      "\u001b[0;31m---------------------------------------------------------------------------\u001b[0m",
      "\u001b[0;31mTypeError\u001b[0m                                 Traceback (most recent call last)",
      "Cell \u001b[0;32mIn[147], line 1\u001b[0m\n\u001b[0;32m----> 1\u001b[0m \u001b[43m(\u001b[49m\u001b[38;5;28;43;01mlambda\u001b[39;49;00m\u001b[43m \u001b[49m\u001b[43mi\u001b[49m\u001b[43m:\u001b[49m\u001b[43m \u001b[49m\u001b[43mtorch\u001b[49m\u001b[38;5;241;43m.\u001b[39;49m\u001b[43mexp\u001b[49m\u001b[43m(\u001b[49m\u001b[43mi\u001b[49m\u001b[43m)\u001b[49m\u001b[43m \u001b[49m\u001b[38;5;241;43m+\u001b[39;49m\u001b[43m \u001b[49m\u001b[43mB\u001b[49m\u001b[43m[\u001b[49m\u001b[43mi\u001b[49m\u001b[43m]\u001b[49m\u001b[43m)\u001b[49m\u001b[43m(\u001b[49m\u001b[43mMetadataTensor\u001b[49m\u001b[43m(\u001b[49m\u001b[43mtorch\u001b[49m\u001b[38;5;241;43m.\u001b[39;49m\u001b[43mtensor\u001b[49m\u001b[43m(\u001b[49m\u001b[38;5;241;43m0\u001b[39;49m\u001b[43m)\u001b[49m\u001b[43m,\u001b[49m\u001b[43m \u001b[49m\u001b[43mmetadata\u001b[49m\u001b[38;5;241;43m=\u001b[39;49m\u001b[38;5;124;43m\"\u001b[39;49m\u001b[38;5;124;43mx\u001b[39;49m\u001b[38;5;124;43m\"\u001b[39;49m\u001b[43m)\u001b[49m\u001b[43m)\u001b[49m\n",
      "Cell \u001b[0;32mIn[147], line 1\u001b[0m, in \u001b[0;36m<lambda>\u001b[0;34m(i)\u001b[0m\n\u001b[0;32m----> 1\u001b[0m (\u001b[38;5;28;01mlambda\u001b[39;00m i: \u001b[43mtorch\u001b[49m\u001b[38;5;241;43m.\u001b[39;49m\u001b[43mexp\u001b[49m\u001b[43m(\u001b[49m\u001b[43mi\u001b[49m\u001b[43m)\u001b[49m\u001b[43m \u001b[49m\u001b[38;5;241;43m+\u001b[39;49m\u001b[43m \u001b[49m\u001b[43mB\u001b[49m\u001b[43m[\u001b[49m\u001b[43mi\u001b[49m\u001b[43m]\u001b[49m)(MetadataTensor(torch\u001b[38;5;241m.\u001b[39mtensor(\u001b[38;5;241m0\u001b[39m), metadata\u001b[38;5;241m=\u001b[39m\u001b[38;5;124m\"\u001b[39m\u001b[38;5;124mx\u001b[39m\u001b[38;5;124m\"\u001b[39m))\n",
      "\u001b[0;31mTypeError\u001b[0m: unsupported operand type(s) for +: 'MetadataTensor' and 'MetadataTensor'"
     ]
    }
   ],
   "source": [
    "(lambda i: torch.exp(i) + B[i])(MetadataTensor(torch.tensor(0), metadata=\"x\"))"
   ]
  },
  {
   "cell_type": "code",
   "execution_count": 122,
   "id": "0a8f0344-3600-47f9-b263-2ee7de6240ad",
   "metadata": {},
   "outputs": [
    {
     "data": {
      "text/plain": [
       "'__getitem__'"
      ]
     },
     "execution_count": 122,
     "metadata": {},
     "output_type": "execute_result"
    }
   ],
   "source": [
    "fun.__name__"
   ]
  },
  {
   "cell_type": "code",
   "execution_count": 61,
   "id": "f731c093-7158-435c-84bb-43f77baa87dd",
   "metadata": {},
   "outputs": [],
   "source": [
    "import torch\n",
    "\n",
    "\n",
    "def f(i):\n",
    "    x = torch.exp(i) + B[i]\n",
    "    return x, i\n",
    "\n",
    "\n",
    "#  To avoid dealing with prim::Bailout stuff\n",
    "torch._C._jit_set_profiling_executor(False)\n",
    "\n",
    "trace = torch.jit.trace(f, torch.tensor(1, dtype=torch.int))"
   ]
  },
  {
   "cell_type": "code",
   "execution_count": 62,
   "id": "94887b22-6f33-4685-9b33-bdaa548efb75",
   "metadata": {},
   "outputs": [
    {
     "data": {
      "text/plain": [
       "graph(%i : Int(requires_grad=0, device=cpu)):\n",
       "  %2 : int = aten::Int(%i)\n",
       "  %1 : Float(requires_grad=0, device=cpu) = aten::exp(%i) # /var/folders/y1/33lbjdps12lf6x0csm_rvb5m0000gn/T/ipykernel_21548/588144388.py:4:0\n",
       "  %3 : Float(5, 6, strides=[6, 1], requires_grad=0, device=cpu) = prim::Constant[value=<Tensor>]() # /var/folders/y1/33lbjdps12lf6x0csm_rvb5m0000gn/T/ipykernel_21548/588144388.py:4:0\n",
       "  %4 : int = prim::Constant[value=0]() # /var/folders/y1/33lbjdps12lf6x0csm_rvb5m0000gn/T/ipykernel_21548/588144388.py:4:0\n",
       "  %5 : Float(6, strides=[1], requires_grad=0, device=cpu) = aten::select(%3, %4, %2) # /var/folders/y1/33lbjdps12lf6x0csm_rvb5m0000gn/T/ipykernel_21548/588144388.py:4:0\n",
       "  %6 : int = prim::Constant[value=1]() # /var/folders/y1/33lbjdps12lf6x0csm_rvb5m0000gn/T/ipykernel_21548/588144388.py:4:0\n",
       "  %7 : Float(6, strides=[1], requires_grad=0, device=cpu) = aten::add(%1, %5, %6) # /var/folders/y1/33lbjdps12lf6x0csm_rvb5m0000gn/T/ipykernel_21548/588144388.py:4:0\n",
       "  %8 : (Float(6, strides=[1], requires_grad=0, device=cpu), Int(requires_grad=0, device=cpu)) = prim::TupleConstruct(%7, %i)\n",
       "  return (%8)"
      ]
     },
     "execution_count": 62,
     "metadata": {},
     "output_type": "execute_result"
    }
   ],
   "source": [
    "trace.graph"
   ]
  },
  {
   "cell_type": "code",
   "execution_count": null,
   "id": "d66aaf54-add9-462a-b3c4-436bc26d7b1c",
   "metadata": {},
   "outputs": [],
   "source": []
  },
  {
   "cell_type": "code",
   "execution_count": 44,
   "id": "917d649c-9b02-4702-80aa-fbfa2c244930",
   "metadata": {},
   "outputs": [
    {
     "ename": "RuntimeError",
     "evalue": "example_kwarg_inputs should be a dict",
     "output_type": "error",
     "traceback": [
      "\u001b[0;31m---------------------------------------------------------------------------\u001b[0m",
      "\u001b[0;31mRuntimeError\u001b[0m                              Traceback (most recent call last)",
      "Cell \u001b[0;32mIn[44], line 9\u001b[0m\n\u001b[1;32m      6\u001b[0m torch\u001b[38;5;241m.\u001b[39m_C\u001b[38;5;241m.\u001b[39m_jit_set_profiling_executor(\u001b[38;5;28;01mFalse\u001b[39;00m)\n\u001b[1;32m      8\u001b[0m inp \u001b[38;5;241m=\u001b[39m torch\u001b[38;5;241m.\u001b[39mrand(\u001b[38;5;241m1\u001b[39m, \u001b[38;5;241m3\u001b[39m, \u001b[38;5;241m224\u001b[39m, \u001b[38;5;241m224\u001b[39m)\n\u001b[0;32m----> 9\u001b[0m trace \u001b[38;5;241m=\u001b[39m \u001b[43mtorch\u001b[49m\u001b[38;5;241;43m.\u001b[39;49m\u001b[43mjit\u001b[49m\u001b[38;5;241;43m.\u001b[39;49m\u001b[43mtrace\u001b[49m\u001b[43m(\u001b[49m\u001b[43mconv\u001b[49m\u001b[43m)\u001b[49m\n",
      "File \u001b[0;32m~/Library/Caches/pypoetry/virtualenvs/gbmi-UvbjekAV-py3.10/lib/python3.10/site-packages/torch/_dynamo/eval_frame.py:489\u001b[0m, in \u001b[0;36m_TorchDynamoContext.__call__.<locals>._fn\u001b[0;34m(*args, **kwargs)\u001b[0m\n\u001b[1;32m    487\u001b[0m     dynamo_config_ctx\u001b[38;5;241m.\u001b[39m\u001b[38;5;21m__enter__\u001b[39m()\n\u001b[1;32m    488\u001b[0m \u001b[38;5;28;01mtry\u001b[39;00m:\n\u001b[0;32m--> 489\u001b[0m     \u001b[38;5;28;01mreturn\u001b[39;00m \u001b[43mfn\u001b[49m\u001b[43m(\u001b[49m\u001b[38;5;241;43m*\u001b[39;49m\u001b[43margs\u001b[49m\u001b[43m,\u001b[49m\u001b[43m \u001b[49m\u001b[38;5;241;43m*\u001b[39;49m\u001b[38;5;241;43m*\u001b[39;49m\u001b[43mkwargs\u001b[49m\u001b[43m)\u001b[49m\n\u001b[1;32m    490\u001b[0m \u001b[38;5;28;01mfinally\u001b[39;00m:\n\u001b[1;32m    491\u001b[0m     set_eval_frame(prior)\n",
      "File \u001b[0;32m~/Library/Caches/pypoetry/virtualenvs/gbmi-UvbjekAV-py3.10/lib/python3.10/site-packages/torch/_dynamo/external_utils.py:17\u001b[0m, in \u001b[0;36mwrap_inline.<locals>.inner\u001b[0;34m(*args, **kwargs)\u001b[0m\n\u001b[1;32m     15\u001b[0m \u001b[38;5;129m@functools\u001b[39m\u001b[38;5;241m.\u001b[39mwraps(fn)\n\u001b[1;32m     16\u001b[0m \u001b[38;5;28;01mdef\u001b[39;00m \u001b[38;5;21minner\u001b[39m(\u001b[38;5;241m*\u001b[39margs, \u001b[38;5;241m*\u001b[39m\u001b[38;5;241m*\u001b[39mkwargs):\n\u001b[0;32m---> 17\u001b[0m     \u001b[38;5;28;01mreturn\u001b[39;00m \u001b[43mfn\u001b[49m\u001b[43m(\u001b[49m\u001b[38;5;241;43m*\u001b[39;49m\u001b[43margs\u001b[49m\u001b[43m,\u001b[49m\u001b[43m \u001b[49m\u001b[38;5;241;43m*\u001b[39;49m\u001b[38;5;241;43m*\u001b[39;49m\u001b[43mkwargs\u001b[49m\u001b[43m)\u001b[49m\n",
      "File \u001b[0;32m~/Library/Caches/pypoetry/virtualenvs/gbmi-UvbjekAV-py3.10/lib/python3.10/site-packages/torch/jit/_trace.py:805\u001b[0m, in \u001b[0;36mtrace\u001b[0;34m(func, example_inputs, optimize, check_trace, check_inputs, check_tolerance, strict, _force_outplace, _module_class, _compilation_unit, example_kwarg_inputs, _store_inputs)\u001b[0m\n\u001b[1;32m    803\u001b[0m             example_inputs \u001b[38;5;241m=\u001b[39m example_kwarg_inputs\n\u001b[1;32m    804\u001b[0m         \u001b[38;5;28;01melse\u001b[39;00m:\n\u001b[0;32m--> 805\u001b[0m             \u001b[38;5;28;01mraise\u001b[39;00m \u001b[38;5;167;01mRuntimeError\u001b[39;00m(\u001b[38;5;124m\"\u001b[39m\u001b[38;5;124mexample_kwarg_inputs should be a dict\u001b[39m\u001b[38;5;124m\"\u001b[39m)\n\u001b[1;32m    806\u001b[0m     \u001b[38;5;28;01mreturn\u001b[39;00m trace_module(\n\u001b[1;32m    807\u001b[0m         func,\n\u001b[1;32m    808\u001b[0m         {\u001b[38;5;124m\"\u001b[39m\u001b[38;5;124mforward\u001b[39m\u001b[38;5;124m\"\u001b[39m: example_inputs},\n\u001b[0;32m   (...)\u001b[0m\n\u001b[1;32m    817\u001b[0m         _store_inputs\u001b[38;5;241m=\u001b[39m_store_inputs,\n\u001b[1;32m    818\u001b[0m     )\n\u001b[1;32m    819\u001b[0m \u001b[38;5;28;01mif\u001b[39;00m (\n\u001b[1;32m    820\u001b[0m     \u001b[38;5;28mhasattr\u001b[39m(func, \u001b[38;5;124m\"\u001b[39m\u001b[38;5;124m__self__\u001b[39m\u001b[38;5;124m\"\u001b[39m)\n\u001b[1;32m    821\u001b[0m     \u001b[38;5;129;01mand\u001b[39;00m \u001b[38;5;28misinstance\u001b[39m(func\u001b[38;5;241m.\u001b[39m\u001b[38;5;18m__self__\u001b[39m, torch\u001b[38;5;241m.\u001b[39mnn\u001b[38;5;241m.\u001b[39mModule)\n\u001b[1;32m    822\u001b[0m     \u001b[38;5;129;01mand\u001b[39;00m func\u001b[38;5;241m.\u001b[39m\u001b[38;5;18m__name__\u001b[39m \u001b[38;5;241m==\u001b[39m \u001b[38;5;124m\"\u001b[39m\u001b[38;5;124mforward\u001b[39m\u001b[38;5;124m\"\u001b[39m\n\u001b[1;32m    823\u001b[0m ):\n",
      "\u001b[0;31mRuntimeError\u001b[0m: example_kwarg_inputs should be a dict"
     ]
    }
   ],
   "source": [
    "import torch\n",
    "\n",
    "conv = torch.nn.Conv2d(in_channels=3, out_channels=8, kernel_size=3)\n",
    "\n",
    "#  To avoid dealing with prim::Bailout stuff\n",
    "torch._C._jit_set_profiling_executor(False)\n",
    "\n",
    "inp = torch.rand(1, 3, 224, 224)\n",
    "trace = torch.jit.trace(conv, inp)"
   ]
  },
  {
   "cell_type": "code",
   "execution_count": 42,
   "id": "cf1837f5-9858-4d58-bc16-e00095168568",
   "metadata": {},
   "outputs": [
    {
     "data": {
      "text/plain": [
       "graph(%self : __torch__.torch.nn.modules.conv.Conv2d,\n",
       "      %input : Float(1, 3, 224, 224, strides=[150528, 50176, 224, 1], requires_grad=0, device=cpu)):\n",
       "  %bias : Tensor = prim::GetAttr[name=\"bias\"](%self)\n",
       "  %weight : Tensor = prim::GetAttr[name=\"weight\"](%self)\n",
       "  %6 : int = prim::Constant[value=1]() # /Users/eo/Library/Caches/pypoetry/virtualenvs/gbmi-UvbjekAV-py3.10/lib/python3.10/site-packages/torch/nn/modules/conv.py:456:0\n",
       "  %7 : int = prim::Constant[value=1]() # /Users/eo/Library/Caches/pypoetry/virtualenvs/gbmi-UvbjekAV-py3.10/lib/python3.10/site-packages/torch/nn/modules/conv.py:456:0\n",
       "  %8 : int[] = prim::ListConstruct(%6, %7)\n",
       "  %9 : int = prim::Constant[value=0]() # /Users/eo/Library/Caches/pypoetry/virtualenvs/gbmi-UvbjekAV-py3.10/lib/python3.10/site-packages/torch/nn/modules/conv.py:456:0\n",
       "  %10 : int = prim::Constant[value=0]() # /Users/eo/Library/Caches/pypoetry/virtualenvs/gbmi-UvbjekAV-py3.10/lib/python3.10/site-packages/torch/nn/modules/conv.py:456:0\n",
       "  %11 : int[] = prim::ListConstruct(%9, %10)\n",
       "  %12 : int = prim::Constant[value=1]() # /Users/eo/Library/Caches/pypoetry/virtualenvs/gbmi-UvbjekAV-py3.10/lib/python3.10/site-packages/torch/nn/modules/conv.py:456:0\n",
       "  %13 : int = prim::Constant[value=1]() # /Users/eo/Library/Caches/pypoetry/virtualenvs/gbmi-UvbjekAV-py3.10/lib/python3.10/site-packages/torch/nn/modules/conv.py:456:0\n",
       "  %14 : int[] = prim::ListConstruct(%12, %13)\n",
       "  %15 : bool = prim::Constant[value=0]() # /Users/eo/Library/Caches/pypoetry/virtualenvs/gbmi-UvbjekAV-py3.10/lib/python3.10/site-packages/torch/nn/modules/conv.py:456:0\n",
       "  %16 : int = prim::Constant[value=0]() # /Users/eo/Library/Caches/pypoetry/virtualenvs/gbmi-UvbjekAV-py3.10/lib/python3.10/site-packages/torch/nn/modules/conv.py:456:0\n",
       "  %17 : int = prim::Constant[value=0]() # /Users/eo/Library/Caches/pypoetry/virtualenvs/gbmi-UvbjekAV-py3.10/lib/python3.10/site-packages/torch/nn/modules/conv.py:456:0\n",
       "  %18 : int[] = prim::ListConstruct(%16, %17)\n",
       "  %19 : int = prim::Constant[value=1]() # /Users/eo/Library/Caches/pypoetry/virtualenvs/gbmi-UvbjekAV-py3.10/lib/python3.10/site-packages/torch/nn/modules/conv.py:456:0\n",
       "  %20 : bool = prim::Constant[value=0]() # /Users/eo/Library/Caches/pypoetry/virtualenvs/gbmi-UvbjekAV-py3.10/lib/python3.10/site-packages/torch/nn/modules/conv.py:456:0\n",
       "  %21 : bool = prim::Constant[value=0]() # /Users/eo/Library/Caches/pypoetry/virtualenvs/gbmi-UvbjekAV-py3.10/lib/python3.10/site-packages/torch/nn/modules/conv.py:456:0\n",
       "  %22 : bool = prim::Constant[value=1]() # /Users/eo/Library/Caches/pypoetry/virtualenvs/gbmi-UvbjekAV-py3.10/lib/python3.10/site-packages/torch/nn/modules/conv.py:456:0\n",
       "  %23 : bool = prim::Constant[value=1]() # /Users/eo/Library/Caches/pypoetry/virtualenvs/gbmi-UvbjekAV-py3.10/lib/python3.10/site-packages/torch/nn/modules/conv.py:456:0\n",
       "  %24 : Float(1, 8, 222, 222, strides=[394272, 49284, 222, 1], requires_grad=0, device=cpu) = aten::_convolution(%input, %weight, %bias, %8, %11, %14, %15, %18, %19, %20, %21, %22, %23) # /Users/eo/Library/Caches/pypoetry/virtualenvs/gbmi-UvbjekAV-py3.10/lib/python3.10/site-packages/torch/nn/modules/conv.py:456:0\n",
       "  return (%24)"
      ]
     },
     "execution_count": 42,
     "metadata": {},
     "output_type": "execute_result"
    }
   ],
   "source": [
    "traced.graph"
   ]
  },
  {
   "cell_type": "code",
   "execution_count": null,
   "id": "f33f7d82-c965-4fbf-835d-124632b759d6",
   "metadata": {},
   "outputs": [],
   "source": []
  }
 ],
 "metadata": {
  "kernelspec": {
   "display_name": "gbmi",
   "language": "python",
   "name": "gbmi"
  },
  "language_info": {
   "codemirror_mode": {
    "name": "ipython",
    "version": 3
   },
   "file_extension": ".py",
   "mimetype": "text/x-python",
   "name": "python",
   "nbconvert_exporter": "python",
   "pygments_lexer": "ipython3",
   "version": "3.10.7"
  }
 },
 "nbformat": 4,
 "nbformat_minor": 5
}
