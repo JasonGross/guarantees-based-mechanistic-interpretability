{
 "cells": [
  {
   "cell_type": "code",
   "execution_count": 1,
   "id": "3a282c0c-d1df-4324-b3fe-f76aa3e5819b",
   "metadata": {},
   "outputs": [],
   "source": [
    "from discopy.matrix import Matrix, set_backend"
   ]
  },
  {
   "cell_type": "code",
   "execution_count": 2,
   "id": "d7d3d79d-bdcc-48e9-9d7d-ced14892f5bc",
   "metadata": {},
   "outputs": [],
   "source": [
    "set_backend(\"numpy\")"
   ]
  },
  {
   "cell_type": "code",
   "execution_count": 3,
   "id": "55f27286-075c-42c8-913f-c74c18eeef8e",
   "metadata": {},
   "outputs": [
    {
     "data": {
      "text/plain": [
       "Matrix[int64]([0], dom=1, cod=1)"
      ]
     },
     "execution_count": 3,
     "metadata": {},
     "output_type": "execute_result"
    }
   ],
   "source": [
    "m = Matrix([0, 1, 1, 0], 2, 2)\n",
    "v = Matrix([0, 1], 1, 2)\n",
    "v >> m >> v.dagger()"
   ]
  },
  {
   "cell_type": "code",
   "execution_count": 4,
   "id": "ce1a9d23-389e-4eff-9bb1-2a8746a57941",
   "metadata": {},
   "outputs": [
    {
     "data": {
      "text/plain": [
       "Matrix[int64]([0], dom=1, cod=1)"
      ]
     },
     "execution_count": 4,
     "metadata": {},
     "output_type": "execute_result"
    }
   ],
   "source": [
    "Matrix([0], dom=1, cod=1)"
   ]
  },
  {
   "cell_type": "code",
   "execution_count": 5,
   "id": "d578d0b2-7f1d-45b7-8e02-b2e4d64d2c5d",
   "metadata": {},
   "outputs": [
    {
     "data": {
      "text/plain": [
       "Matrix[int64]([0, 2, 2, 0], dom=2, cod=2)"
      ]
     },
     "execution_count": 5,
     "metadata": {},
     "output_type": "execute_result"
    }
   ],
   "source": [
    "m + m"
   ]
  },
  {
   "cell_type": "code",
   "execution_count": 6,
   "id": "0b376f63-7640-4434-a566-a01edac9fea7",
   "metadata": {},
   "outputs": [],
   "source": [
    "assert m.then(m, m, m, m) == m >> m >> m >> m >> m"
   ]
  },
  {
   "cell_type": "code",
   "execution_count": 7,
   "id": "7360d5b7-de0c-4321-aa80-466859ac04dc",
   "metadata": {},
   "outputs": [
    {
     "data": {
      "text/plain": [
       "array([], shape=(0, 5), dtype=int64)"
      ]
     },
     "execution_count": 7,
     "metadata": {},
     "output_type": "execute_result"
    }
   ],
   "source": [
    "x = (m @ m).ones(5)\n",
    "\n",
    "x.array"
   ]
  },
  {
   "cell_type": "code",
   "execution_count": 8,
   "id": "81b90db9-acdf-4495-80f6-d83607705a7d",
   "metadata": {},
   "outputs": [
    {
     "data": {
      "text/plain": [
       "Matrix[float64]([], dom=2, cod=0)"
      ]
     },
     "execution_count": 8,
     "metadata": {},
     "output_type": "execute_result"
    }
   ],
   "source": [
    "# [2] -> [0]\n",
    "Matrix.discard(2)"
   ]
  },
  {
   "cell_type": "code",
   "execution_count": 9,
   "id": "839bbf1b-443b-46d3-b73f-42cd1ae8da84",
   "metadata": {},
   "outputs": [
    {
     "data": {
      "text/plain": [
       "array([[ True, False, False, False, False, False],\n",
       "       [False, False, False, False, False,  True]])"
      ]
     },
     "execution_count": 9,
     "metadata": {},
     "output_type": "execute_result"
    }
   ],
   "source": [
    "Matrix.copy(2, 3).array"
   ]
  },
  {
   "cell_type": "code",
   "execution_count": null,
   "id": "ddb97496-dc1d-4c4b-b123-1434754ee4a7",
   "metadata": {},
   "outputs": [],
   "source": []
  },
  {
   "cell_type": "code",
   "execution_count": 11,
   "id": "67c9544e-ca7a-4f3e-bb06-f4eaa0295910",
   "metadata": {},
   "outputs": [
    {
     "data": {
      "text/plain": [
       "array([], shape=(0, 5), dtype=float64)"
      ]
     },
     "execution_count": 11,
     "metadata": {},
     "output_type": "execute_result"
    }
   ],
   "source": [
    "Matrix.ones(5).array"
   ]
  },
  {
   "cell_type": "code",
   "execution_count": 29,
   "id": "f49855b1-5338-495a-a405-9a93f832fe82",
   "metadata": {},
   "outputs": [
    {
     "data": {
      "text/plain": [
       "Matrix[bool_]([True, True, True, True, True], dom=5, cod=1)"
      ]
     },
     "execution_count": 29,
     "metadata": {},
     "output_type": "execute_result"
    }
   ],
   "source": [
    "Matrix.merge(1, 5)"
   ]
  },
  {
   "cell_type": "code",
   "execution_count": 12,
   "id": "a461f36c-5600-4a8a-8497-9209a89ff893",
   "metadata": {},
   "outputs": [],
   "source": [
    "from discopy.braided import *\n",
    "\n",
    "Unit = Ty()\n",
    "Q = Ty(\"Q\")\n",
    "S = Ty(\"S\")\n",
    "U = Ty(\"U\")\n",
    "H = Ty(\"H\")\n",
    "\n",
    "vq1, vq2, vq3, vq4 = [\n",
    "    Box(i, Unit, Q) for i in [\"$v^q_1$\", \"$v^q_2$\", \"$v^q_3$\", \"$v^q_4$\"]\n",
    "]\n",
    "vs1, vs2 = [Box(i, Unit, S) for i in [\"$v^s_1$\", \"$v^s_2$\"]]\n",
    "vu1, vu2, u_i_hat = [Box(i, Unit, U) for i in [\"$v^u_1$\", \"$v^u_2$\", \"$\\\\hat{u}_i$\"]]\n",
    "\n",
    "q, k = [Box(i, Unit, H) for i in [\"$q$\", \"$k$\"]]\n",
    "\n",
    "zero = lambda t: Merge(t, 0)\n",
    "\n",
    "l1, l2, l3, l4, l5, l6 = [\n",
    "    Box(i, Unit, Unit)\n",
    "    for i in [\n",
    "        \"$c_1 + ic_2$\",\n",
    "        \"$c_3$\",\n",
    "        \"$\\\\langle v_1^q + v_2^q | v_3^q\\\\rangle^{-1}$\",\n",
    "        \"$\\\\langle v_1^s | v_2^s\\\\rangle^{-1}$\",\n",
    "        \"$\\\\langle v_1^q + v_2^q | v_4^q\\\\rangle^{-1}c_4\",\n",
    "        \"$c_5$\",\n",
    "    ]\n",
    "]"
   ]
  },
  {
   "cell_type": "code",
   "execution_count": 30,
   "id": "2a0cb21c-ee5f-4dfb-9326-2a2715b20af0",
   "metadata": {},
   "outputs": [
    {
     "ename": "AxiomError",
     "evalue": "$v^s_1$ does not compose with $c_1 + ic_2$: S != Ty().",
     "output_type": "error",
     "traceback": [
      "\u001b[0;31m---------------------------------------------------------------------------\u001b[0m",
      "\u001b[0;31mAxiomError\u001b[0m                                Traceback (most recent call last)",
      "Cell \u001b[0;32mIn[30], line 1\u001b[0m\n\u001b[0;32m----> 1\u001b[0m embed \u001b[38;5;241m=\u001b[39m vq1 \u001b[38;5;241m@\u001b[39m (\u001b[43mvs1\u001b[49m\u001b[43m \u001b[49m\u001b[38;5;241;43m>>\u001b[39;49m\u001b[43m \u001b[49m\u001b[43ml1\u001b[49m) \u001b[38;5;241m@\u001b[39m (u_i_hat \u001b[38;5;241m>>\u001b[39m l2) \u001b[38;5;241m@\u001b[39m zero(U)\n\u001b[1;32m      2\u001b[0m pos \u001b[38;5;241m=\u001b[39m vq2 \u001b[38;5;241m@\u001b[39m zero(S) \u001b[38;5;241m@\u001b[39m zero(U) \u001b[38;5;241m@\u001b[39m zero(U)\n\u001b[1;32m      4\u001b[0m W_Q \u001b[38;5;241m=\u001b[39m ((vq3 \u001b[38;5;241m@\u001b[39m zero(S) \u001b[38;5;241m@\u001b[39m zero(U) \u001b[38;5;241m@\u001b[39m vu1)[::\u001b[38;5;241m-\u001b[39m\u001b[38;5;241m1\u001b[39m]) \u001b[38;5;241m>>\u001b[39m (q \u001b[38;5;241m>>\u001b[39m l3)\n",
      "File \u001b[0;32m~/Library/Caches/pypoetry/virtualenvs/gbmi-UvbjekAV-py3.10/lib/python3.10/site-packages/discopy/utils.py:577\u001b[0m, in \u001b[0;36mComposable.<lambda>\u001b[0;34m(self, other)\u001b[0m\n\u001b[1;32m    568\u001b[0m \u001b[38;5;250m    \u001b[39m\u001b[38;5;124;03m\"\"\"\u001b[39;00m\n\u001b[1;32m    569\u001b[0m \u001b[38;5;124;03m    Whether two composable objects are parallel, i.e. they have the same\u001b[39;00m\n\u001b[1;32m    570\u001b[0m \u001b[38;5;124;03m    domain and codomain.\u001b[39;00m\n\u001b[0;32m   (...)\u001b[0m\n\u001b[1;32m    573\u001b[0m \u001b[38;5;124;03m        other : The other composable object.\u001b[39;00m\n\u001b[1;32m    574\u001b[0m \u001b[38;5;124;03m    \"\"\"\u001b[39;00m\n\u001b[1;32m    575\u001b[0m     \u001b[38;5;28;01mreturn\u001b[39;00m (\u001b[38;5;28mself\u001b[39m\u001b[38;5;241m.\u001b[39mdom, \u001b[38;5;28mself\u001b[39m\u001b[38;5;241m.\u001b[39mcod) \u001b[38;5;241m==\u001b[39m (other\u001b[38;5;241m.\u001b[39mdom, other\u001b[38;5;241m.\u001b[39mcod)\n\u001b[0;32m--> 577\u001b[0m \u001b[38;5;21m__rshift__\u001b[39m \u001b[38;5;241m=\u001b[39m __llshift__ \u001b[38;5;241m=\u001b[39m \u001b[38;5;28;01mlambda\u001b[39;00m \u001b[38;5;28mself\u001b[39m, other: \u001b[38;5;28;43mself\u001b[39;49m\u001b[38;5;241;43m.\u001b[39;49m\u001b[43mthen\u001b[49m\u001b[43m(\u001b[49m\u001b[43mother\u001b[49m\u001b[43m)\u001b[49m\n\u001b[1;32m    578\u001b[0m \u001b[38;5;21m__lshift__\u001b[39m \u001b[38;5;241m=\u001b[39m __lrshift__ \u001b[38;5;241m=\u001b[39m \u001b[38;5;28;01mlambda\u001b[39;00m \u001b[38;5;28mself\u001b[39m, other: other\u001b[38;5;241m.\u001b[39mthen(\u001b[38;5;28mself\u001b[39m)\n",
      "File \u001b[0;32m~/Library/Caches/pypoetry/virtualenvs/gbmi-UvbjekAV-py3.10/lib/python3.10/site-packages/discopy/cat.py:327\u001b[0m, in \u001b[0;36mArrow.then\u001b[0;34m(self, *others)\u001b[0m\n\u001b[1;32m    325\u001b[0m     assert_isinstance(\u001b[38;5;28mself\u001b[39m, other\u001b[38;5;241m.\u001b[39mfactory)\n\u001b[1;32m    326\u001b[0m     inside, cod \u001b[38;5;241m=\u001b[39m inside \u001b[38;5;241m+\u001b[39m other\u001b[38;5;241m.\u001b[39minside, other\u001b[38;5;241m.\u001b[39mcod\n\u001b[0;32m--> 327\u001b[0m \u001b[38;5;28;01mreturn\u001b[39;00m \u001b[38;5;28;43mself\u001b[39;49m\u001b[38;5;241;43m.\u001b[39;49m\u001b[43mfactory\u001b[49m\u001b[43m(\u001b[49m\u001b[43minside\u001b[49m\u001b[43m,\u001b[49m\u001b[43m \u001b[49m\u001b[43mdom\u001b[49m\u001b[43m,\u001b[49m\u001b[43m \u001b[49m\u001b[43mcod\u001b[49m\u001b[43m)\u001b[49m\n",
      "File \u001b[0;32m~/Library/Caches/pypoetry/virtualenvs/gbmi-UvbjekAV-py3.10/lib/python3.10/site-packages/discopy/monoidal.py:503\u001b[0m, in \u001b[0;36mDiagram.__init__\u001b[0;34m(self, inside, dom, cod, _scan)\u001b[0m\n\u001b[1;32m    501\u001b[0m \u001b[38;5;28;01mfor\u001b[39;00m layer \u001b[38;5;129;01min\u001b[39;00m inside:\n\u001b[1;32m    502\u001b[0m     assert_isinstance(layer, Layer)\n\u001b[0;32m--> 503\u001b[0m \u001b[38;5;28;43msuper\u001b[39;49m\u001b[43m(\u001b[49m\u001b[43m)\u001b[49m\u001b[38;5;241;43m.\u001b[39;49m\u001b[38;5;21;43m__init__\u001b[39;49m\u001b[43m(\u001b[49m\u001b[43minside\u001b[49m\u001b[43m,\u001b[49m\u001b[43m \u001b[49m\u001b[43mdom\u001b[49m\u001b[43m,\u001b[49m\u001b[43m \u001b[49m\u001b[43mcod\u001b[49m\u001b[43m,\u001b[49m\u001b[43m \u001b[49m\u001b[43m_scan\u001b[49m\u001b[38;5;241;43m=\u001b[39;49m\u001b[43m_scan\u001b[49m\u001b[43m)\u001b[49m\n",
      "File \u001b[0;32m~/Library/Caches/pypoetry/virtualenvs/gbmi-UvbjekAV-py3.10/lib/python3.10/site-packages/discopy/cat.py:235\u001b[0m, in \u001b[0;36mArrow.__init__\u001b[0;34m(self, inside, dom, cod, _scan)\u001b[0m\n\u001b[1;32m    233\u001b[0m     assert_isinstance(box, Box)\n\u001b[1;32m    234\u001b[0m \u001b[38;5;28;01mfor\u001b[39;00m f, g \u001b[38;5;129;01min\u001b[39;00m \u001b[38;5;28mzip\u001b[39m((Id(dom), ) \u001b[38;5;241m+\u001b[39m inside, inside \u001b[38;5;241m+\u001b[39m (Id(cod), )):\n\u001b[0;32m--> 235\u001b[0m     \u001b[43massert_iscomposable\u001b[49m\u001b[43m(\u001b[49m\u001b[43mf\u001b[49m\u001b[43m,\u001b[49m\u001b[43m \u001b[49m\u001b[43mg\u001b[49m\u001b[43m)\u001b[49m\n",
      "File \u001b[0;32m~/Library/Caches/pypoetry/virtualenvs/gbmi-UvbjekAV-py3.10/lib/python3.10/site-packages/discopy/utils.py:679\u001b[0m, in \u001b[0;36massert_iscomposable\u001b[0;34m(left, right)\u001b[0m\n\u001b[1;32m    670\u001b[0m \u001b[38;5;250m\u001b[39m\u001b[38;5;124;03m\"\"\"\u001b[39;00m\n\u001b[1;32m    671\u001b[0m \u001b[38;5;124;03mRaise :class:`AxiomError` if two objects are not composable,\u001b[39;00m\n\u001b[1;32m    672\u001b[0m \u001b[38;5;124;03mi.e. the domain of ``other`` is not the codomain of ``self``.\u001b[39;00m\n\u001b[0;32m   (...)\u001b[0m\n\u001b[1;32m    676\u001b[0m \u001b[38;5;124;03m    right : Another composable object.\u001b[39;00m\n\u001b[1;32m    677\u001b[0m \u001b[38;5;124;03m\"\"\"\u001b[39;00m\n\u001b[1;32m    678\u001b[0m \u001b[38;5;28;01mif\u001b[39;00m \u001b[38;5;129;01mnot\u001b[39;00m left\u001b[38;5;241m.\u001b[39mis_composable(right):\n\u001b[0;32m--> 679\u001b[0m     \u001b[38;5;28;01mraise\u001b[39;00m AxiomError(messages\u001b[38;5;241m.\u001b[39mNOT_COMPOSABLE\u001b[38;5;241m.\u001b[39mformat(\n\u001b[1;32m    680\u001b[0m         left, right, left\u001b[38;5;241m.\u001b[39mcod, right\u001b[38;5;241m.\u001b[39mdom))\n",
      "\u001b[0;31mAxiomError\u001b[0m: $v^s_1$ does not compose with $c_1 + ic_2$: S != Ty()."
     ]
    }
   ],
   "source": [
    "embed = vq1 @ (vs1 >> l1) @ (u_i_hat >> l2) @ zero(U)\n",
    "pos = vq2 @ zero(S) @ zero(U) @ zero(U)\n",
    "\n",
    "W_Q = ((vq3 @ zero(S) @ zero(U) @ vu1)[::-1]) >> (q >> l3)\n",
    "\n",
    "W_K = ((zero(Q) @ vs2 @ zero(U) @ vu2)[::-1]) >> (k >> l4)\n",
    "\n",
    "W_V = (zero(Q) @ zero(S) @ Id(U) @ zero(U))[::-1]\n",
    "W_O = zero(Q) @ zero(S) @ zero(U) @ Id(U)\n",
    "\n",
    "u_i = vq4 @ zero(S) @ zero(U) @ (u_i_hat >> l6)"
   ]
  },
  {
   "cell_type": "code",
   "execution_count": 14,
   "id": "e855c5e7-818f-4c66-92eb-59964f5670a0",
   "metadata": {},
   "outputs": [
    {
     "data": {
      "image/png": "[encoded data removed]",
      "text/plain": [
       "<Figure size 640x480 with 1 Axes>"
      ]
     },
     "metadata": {},
     "output_type": "display_data"
    }
   ],
   "source": [
    "embed.draw()"
   ]
  },
  {
   "cell_type": "code",
   "execution_count": 15,
   "id": "f6372228-0b0d-4ce5-88d2-17a3e0bb7105",
   "metadata": {},
   "outputs": [],
   "source": [
    "import numpy as np"
   ]
  },
  {
   "cell_type": "code",
   "execution_count": 16,
   "id": "856b682f-05b3-42bc-9438-4a238eaeb302",
   "metadata": {},
   "outputs": [],
   "source": [
    "from discopy.tensor import Dim, Tensor"
   ]
  },
  {
   "cell_type": "code",
   "execution_count": 25,
   "id": "9a9208ae-5a0c-4636-87f7-31d291782507",
   "metadata": {},
   "outputs": [
    {
     "data": {
      "text/plain": [
       "Tensor[float64]([0.68953961, 0.68953961, 0.68953961, ..., 0.45986704, 0.45986704,\n",
       " 0.45986704], dom=Dim(1), cod=Dim(6, 6, 5, 5))"
      ]
     },
     "execution_count": 25,
     "metadata": {},
     "output_type": "execute_result"
    }
   ],
   "source": [
    "# model dim 32\n",
    "F = Functor(\n",
    "    {\n",
    "        Unit: 1,\n",
    "        Q: 6,\n",
    "        S: 6,\n",
    "        U: 5,\n",
    "        H: 32,\n",
    "    },\n",
    "    {vq2: Matrix(np.random.rand(6), dom=1, cod=6)},\n",
    "    cod=Category(Dim, Tensor),\n",
    ")"
   ]
  },
  {
   "cell_type": "code",
   "execution_count": null,
   "id": "4186faa0-d607-4d7f-8c72-1f6b496c8e7f",
   "metadata": {},
   "outputs": [],
   "source": []
  },
  {
   "cell_type": "code",
   "execution_count": null,
   "id": "91690e6e-7f5a-4840-abf3-0df6b144f238",
   "metadata": {},
   "outputs": [],
   "source": []
  }
 ],
 "metadata": {
  "kernelspec": {
   "display_name": "gbmi",
   "language": "python",
   "name": "gbmi"
  },
  "language_info": {
   "codemirror_mode": {
    "name": "ipython",
    "version": 3
   },
   "file_extension": ".py",
   "mimetype": "text/x-python",
   "name": "python",
   "nbconvert_exporter": "python",
   "pygments_lexer": "ipython3",
   "version": "3.10.7"
  }
 },
 "nbformat": 4,
 "nbformat_minor": 5
}
