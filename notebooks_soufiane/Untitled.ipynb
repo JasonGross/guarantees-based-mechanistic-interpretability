{
 "cells": [
  {
   "cell_type": "code",
   "execution_count": 1,
   "id": "f7015b35-b87c-4f1b-b842-9649a05e6577",
   "metadata": {},
   "outputs": [],
   "source": [
    "import gbmi.utils.ein as ein"
   ]
  },
  {
   "cell_type": "code",
   "execution_count": 3,
   "id": "492fda1c-e641-4226-ad10-e77c4b5d163f",
   "metadata": {},
   "outputs": [
    {
     "data": {
      "text/plain": [
       "tensor([0, 1, 2, 3, 4])"
      ]
     },
     "execution_count": 3,
     "metadata": {},
     "output_type": "execute_result"
    }
   ],
   "source": [
    "ein.array(lambda x: x, sizes=[5])"
   ]
  },
  {
   "cell_type": "code",
   "execution_count": 4,
   "id": "19d6e557-3e88-4277-98b3-fe2b11e7b216",
   "metadata": {},
   "outputs": [],
   "source": [
    "import torch"
   ]
  },
  {
   "cell_type": "code",
   "execution_count": 5,
   "id": "a83e0f33-9a92-49f4-8bf9-899e206f52e2",
   "metadata": {},
   "outputs": [],
   "source": [
    "A = torch.rand(5, 4)\n",
    "B = torch.rand(4, 3)"
   ]
  },
  {
   "cell_type": "code",
   "execution_count": 6,
   "id": "482db0ec-d082-49d1-9160-0efec9766cb3",
   "metadata": {},
   "outputs": [
    {
     "data": {
      "text/plain": [
       "tensor([[0.5479, 1.3781, 1.2901],\n",
       "        [0.5242, 1.1542, 1.3784],\n",
       "        [0.5277, 1.5135, 1.1609],\n",
       "        [0.6525, 1.2770, 1.3775],\n",
       "        [0.5356, 1.1297, 1.3309]])"
      ]
     },
     "execution_count": 6,
     "metadata": {},
     "output_type": "execute_result"
    }
   ],
   "source": [
    "ein.array(lambda i, k: ein.sum(lambda j: A[i, j] * B[j, k]))"
   ]
  },
  {
   "cell_type": "code",
   "execution_count": 7,
   "id": "9be88bfc-7306-41a6-8fc4-ec7392217e1c",
   "metadata": {},
   "outputs": [
    {
     "ename": "IndexError",
     "evalue": "index 4 is out of bounds for dimension 1 with size 4",
     "output_type": "error",
     "traceback": [
      "\u001b[0;31m---------------------------------------------------------------------------\u001b[0m",
      "\u001b[0;31mIndexError\u001b[0m                                Traceback (most recent call last)",
      "Cell \u001b[0;32mIn[7], line 4\u001b[0m\n\u001b[1;32m      1\u001b[0m xs \u001b[38;5;241m=\u001b[39m torch\u001b[38;5;241m.\u001b[39mtensor([\u001b[38;5;241m1\u001b[39m,\u001b[38;5;241m2\u001b[39m,\u001b[38;5;241m3\u001b[39m,\u001b[38;5;241m2\u001b[39m,\u001b[38;5;241m1\u001b[39m])\n\u001b[1;32m      2\u001b[0m ys \u001b[38;5;241m=\u001b[39m torch\u001b[38;5;241m.\u001b[39mtensor([\u001b[38;5;241m2\u001b[39m,\u001b[38;5;241m3\u001b[39m,\u001b[38;5;241m4\u001b[39m,\u001b[38;5;241m3\u001b[39m,\u001b[38;5;241m2\u001b[39m])\n\u001b[0;32m----> 4\u001b[0m \u001b[43mein\u001b[49m\u001b[38;5;241;43m.\u001b[39;49m\u001b[43marray\u001b[49m\u001b[43m(\u001b[49m\u001b[38;5;28;43;01mlambda\u001b[39;49;00m\u001b[43m \u001b[49m\u001b[43mt\u001b[49m\u001b[43m:\u001b[49m\u001b[43m \u001b[49m\u001b[43mA\u001b[49m\u001b[43m[\u001b[49m\u001b[43mxs\u001b[49m\u001b[43m[\u001b[49m\u001b[43mt\u001b[49m\u001b[43m]\u001b[49m\u001b[43m,\u001b[49m\u001b[43m \u001b[49m\u001b[43mys\u001b[49m\u001b[43m[\u001b[49m\u001b[43mt\u001b[49m\u001b[43m]\u001b[49m\u001b[43m]\u001b[49m\u001b[43m)\u001b[49m\n",
      "File \u001b[0;32m~/soufiane_code/guarantees-based-mechanistic-interpretability/gbmi/utils/ein.py:46\u001b[0m, in \u001b[0;36marray\u001b[0;34m(f, sizes)\u001b[0m\n\u001b[1;32m     43\u001b[0m \u001b[38;5;28;01mdef\u001b[39;00m \u001b[38;5;21marray\u001b[39m(\n\u001b[1;32m     44\u001b[0m     f: Callable[\u001b[38;5;241m.\u001b[39m\u001b[38;5;241m.\u001b[39m\u001b[38;5;241m.\u001b[39m, Tensor], sizes: Optional[List[Optional[\u001b[38;5;28mint\u001b[39m]]] \u001b[38;5;241m=\u001b[39m \u001b[38;5;28;01mNone\u001b[39;00m\n\u001b[1;32m     45\u001b[0m ) \u001b[38;5;241m-\u001b[39m\u001b[38;5;241m>\u001b[39m Tensor:\n\u001b[0;32m---> 46\u001b[0m     \u001b[38;5;28;01mreturn\u001b[39;00m \u001b[43mapply\u001b[49m\u001b[43m(\u001b[49m\u001b[43mf\u001b[49m\u001b[43m,\u001b[49m\u001b[43m \u001b[49m\u001b[43mcollect\u001b[49m\u001b[38;5;241;43m=\u001b[39;49m\u001b[38;5;28;43;01mlambda\u001b[39;49;00m\u001b[43m \u001b[49m\u001b[43mxs\u001b[49m\u001b[43m,\u001b[49m\u001b[43m \u001b[49m\u001b[43md\u001b[49m\u001b[43m:\u001b[49m\u001b[43m \u001b[49m\u001b[43mxs\u001b[49m\u001b[38;5;241;43m.\u001b[39;49m\u001b[43morder\u001b[49m\u001b[43m(\u001b[49m\u001b[43md\u001b[49m\u001b[43m)\u001b[49m\u001b[43m,\u001b[49m\u001b[43m \u001b[49m\u001b[43msizes\u001b[49m\u001b[38;5;241;43m=\u001b[39;49m\u001b[43msizes\u001b[49m\u001b[43m)\u001b[49m\n",
      "File \u001b[0;32m~/soufiane_code/guarantees-based-mechanistic-interpretability/gbmi/utils/ein.py:19\u001b[0m, in \u001b[0;36mapply\u001b[0;34m(f, collect, sizes)\u001b[0m\n\u001b[1;32m     17\u001b[0m dim \u001b[38;5;241m=\u001b[39m dims(sizes\u001b[38;5;241m=\u001b[39m[sizes[\u001b[38;5;241m0\u001b[39m]])\n\u001b[1;32m     18\u001b[0m \u001b[38;5;28;01mif\u001b[39;00m n_args \u001b[38;5;241m==\u001b[39m \u001b[38;5;241m1\u001b[39m:\n\u001b[0;32m---> 19\u001b[0m     xs \u001b[38;5;241m=\u001b[39m \u001b[43mf\u001b[49m\u001b[43m(\u001b[49m\u001b[43mdim\u001b[49m\u001b[43m)\u001b[49m\n\u001b[1;32m     20\u001b[0m \u001b[38;5;28;01melse\u001b[39;00m:\n\u001b[1;32m     21\u001b[0m     xs \u001b[38;5;241m=\u001b[39m apply(partial(f, dim), collect, sizes[\u001b[38;5;241m1\u001b[39m:])\n",
      "Cell \u001b[0;32mIn[7], line 4\u001b[0m, in \u001b[0;36m<lambda>\u001b[0;34m(t)\u001b[0m\n\u001b[1;32m      1\u001b[0m xs \u001b[38;5;241m=\u001b[39m torch\u001b[38;5;241m.\u001b[39mtensor([\u001b[38;5;241m1\u001b[39m,\u001b[38;5;241m2\u001b[39m,\u001b[38;5;241m3\u001b[39m,\u001b[38;5;241m2\u001b[39m,\u001b[38;5;241m1\u001b[39m])\n\u001b[1;32m      2\u001b[0m ys \u001b[38;5;241m=\u001b[39m torch\u001b[38;5;241m.\u001b[39mtensor([\u001b[38;5;241m2\u001b[39m,\u001b[38;5;241m3\u001b[39m,\u001b[38;5;241m4\u001b[39m,\u001b[38;5;241m3\u001b[39m,\u001b[38;5;241m2\u001b[39m])\n\u001b[0;32m----> 4\u001b[0m ein\u001b[38;5;241m.\u001b[39marray(\u001b[38;5;28;01mlambda\u001b[39;00m t: \u001b[43mA\u001b[49m\u001b[43m[\u001b[49m\u001b[43mxs\u001b[49m\u001b[43m[\u001b[49m\u001b[43mt\u001b[49m\u001b[43m]\u001b[49m\u001b[43m,\u001b[49m\u001b[43m \u001b[49m\u001b[43mys\u001b[49m\u001b[43m[\u001b[49m\u001b[43mt\u001b[49m\u001b[43m]\u001b[49m\u001b[43m]\u001b[49m)\n",
      "\u001b[0;31mIndexError\u001b[0m: index 4 is out of bounds for dimension 1 with size 4"
     ]
    }
   ],
   "source": [
    "xs = torch.tensor([1, 2, 3, 2, 1])\n",
    "ys = torch.tensor([2, 3, 4, 3, 2])\n",
    "\n",
    "ein.array(lambda t: A[xs[t], ys[t]])"
   ]
  },
  {
   "cell_type": "code",
   "execution_count": null,
   "id": "33a039ff-f5de-49fc-b798-25555da5c8d3",
   "metadata": {},
   "outputs": [],
   "source": []
  }
 ],
 "metadata": {
  "kernelspec": {
   "display_name": "Python 3 (ipykernel)",
   "language": "python",
   "name": "python3"
  },
  "language_info": {
   "codemirror_mode": {
    "name": "ipython",
    "version": 3
   },
   "file_extension": ".py",
   "mimetype": "text/x-python",
   "name": "python",
   "nbconvert_exporter": "python",
   "pygments_lexer": "ipython3",
   "version": "3.10.13"
  }
 },
 "nbformat": 4,
 "nbformat_minor": 5
}
