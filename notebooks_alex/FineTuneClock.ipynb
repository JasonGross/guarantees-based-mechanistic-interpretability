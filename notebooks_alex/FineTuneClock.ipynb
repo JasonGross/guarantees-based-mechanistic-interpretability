{
 "cells": [
  {
   "cell_type": "code",
   "execution_count": 11,
   "id": "f5737a66-1bd1-46ec-8e4d-b93b31161662",
   "metadata": {},
   "outputs": [],
   "source": [
    "from gbmi.exp_modular_fine_tuning.train import MODULAR_ADDITION_113_CLOCK_CONFIG\n",
    "from gbmi.exp_modular_fine_tuning.train import ModularFineTuningTrainingWrapper\n",
    "from gbmi.model import train_or_load_model\n",
    "import torch\n",
    "import einops\n",
    "from torch import tensor\n",
    "from math import *\n"
   ]
  },
  {
   "cell_type": "code",
   "execution_count": 3,
   "id": "969de5aa-d4b7-4730-ad5c-2d447fba4891",
   "metadata": {},
   "outputs": [],
   "source": [
    "%load_ext autoreload\n",
    "%autoreload 2"
   ]
  },
  {
   "cell_type": "code",
   "execution_count": 4,
   "id": "0938cd15-21af-4181-a8ae-3729c4956dab",
   "metadata": {},
   "outputs": [
    {
     "name": "stderr",
     "output_type": "stream",
     "text": [
      "Failed to detect the name of this notebook, you can set it manually with the WANDB_NOTEBOOK_NAME environment variable to enable code saving.\n",
      "\u001b[34m\u001b[1mwandb\u001b[0m:   1 of 1 files downloaded.  \n",
      "wandb: WARNING Source type is set to 'repo' but some required information is missing from the environment. A job will not be created from this run. See https://docs.wandb.ai/guides/launch/create-job\n"
     ]
    }
   ],
   "source": [
    "config = MODULAR_ADDITION_113_CLOCK_CONFIG\n",
    "runtime, model = train_or_load_model(config)"
   ]
  },
  {
   "cell_type": "code",
   "execution_count": 5,
   "id": "e1ae56d2-2cd2-4379-9aed-9d7ed5b5bd30",
   "metadata": {},
   "outputs": [],
   "source": [
    "loss_fn = ModularFineTuningTrainingWrapper.loss_fn\n",
    "for param in model.parameters():\n",
    "    param.requires_grad = False\n",
    "embedding_matrix = model.embed.W_E.detach().clone()\n",
    "embedding_matrix.requires_grad = False\n",
    "model.embed = torch.nn.Identity()"
   ]
  },
  {
   "cell_type": "code",
   "execution_count": 40,
   "id": "609c64a6-8ecd-4a29-9f68-0c9bf51112dd",
   "metadata": {},
   "outputs": [
    {
     "name": "stdout",
     "output_type": "stream",
     "text": [
      "torch.Size([2, 226, 3])\n"
     ]
    }
   ],
   "source": [
    "p = 113\n",
    "q = 2*p\n",
    "class DifferentModClock(torch.nn.Module):\n",
    "    def __init__(self,q):\n",
    "        super(DifferentModClock,self).__init__()\n",
    "        self.W_e = torch.nn.Parameter(-0.5/sqrt(p+1) + torch.rand((q+1,p+1))/sqrt(p+1)).to('cuda')\n",
    "        self.W_u = torch.nn.Parameter(-0.5/sqrt(p) + torch.rand((q,p))/sqrt(p)).to('cuda')\n",
    "    def forward(self,x):\n",
    "        z = torch.nn.functional.one_hot(x.to('cuda')).to(torch.float)\n",
    "        \n",
    "        y = z @ self.W_e @ embedding_matrix\n",
    "        if(len(y.shape)!=3):\n",
    "            y = y.unsqueeze(0)\n",
    "        return self.W_u @ (einops.rearrange(model(y),\"b d p -> b p d\"))\n",
    "Clock = DifferentModClock(q)\n",
    "print(Clock(torch.tensor([[1,2,226],[2,5,226]])).shape)"
   ]
  },
  {
   "cell_type": "code",
   "execution_count": 53,
   "id": "23111000-d93f-44af-a8c1-30a2ead4187a",
   "metadata": {},
   "outputs": [],
   "source": [
    "a_vector = einops.repeat(torch.arange(q), \"i -> (i j)\", j=q)\n",
    "b_vector = einops.repeat(torch.arange(q), \"j -> (i j)\", i=q)\n",
    "equals_vector = einops.repeat(torch.tensor(q), \" -> (i j)\", i=q, j=q)\n",
    "dataset = torch.stack([a_vector, b_vector, equals_vector], dim=1).cuda()\n"
   ]
  },
  {
   "cell_type": "code",
   "execution_count": 62,
   "id": "fa0c0f06-6b35-4084-9e03-9171522d4e4f",
   "metadata": {},
   "outputs": [],
   "source": [
    "def run_batch(x):\n",
    "        labels = (x[:, 0] + x[:, 1]) % q\n",
    "        y_preds = Clock(x)\n",
    "\n",
    "        loss = loss_fn(y_preds, labels)\n",
    "        self.log(f\"{prefix}loss\", loss, prog_bar=True)\n",
    "        return loss"
   ]
  },
  {
   "cell_type": "code",
   "execution_count": 64,
   "id": "fae6e101-b1be-4987-9c8a-09109fc2479a",
   "metadata": {},
   "outputs": [
    {
     "ename": "RuntimeError",
     "evalue": "CUDA error: device-side assert triggered\nCUDA kernel errors might be asynchronously reported at some other API call, so the stacktrace below might be incorrect.\nFor debugging consider passing CUDA_LAUNCH_BLOCKING=1.\nCompile with `TORCH_USE_CUDA_DSA` to enable device-side assertions.\n",
     "output_type": "error",
     "traceback": [
      "\u001b[0;31m---------------------------------------------------------------------------\u001b[0m",
      "\u001b[0;31mRuntimeError\u001b[0m                              Traceback (most recent call last)",
      "Cell \u001b[0;32mIn[64], line 1\u001b[0m\n\u001b[0;32m----> 1\u001b[0m \u001b[43mrun_batch\u001b[49m\u001b[43m(\u001b[49m\u001b[43mdataset\u001b[49m\u001b[43m)\u001b[49m\n",
      "Cell \u001b[0;32mIn[62], line 2\u001b[0m, in \u001b[0;36mrun_batch\u001b[0;34m(x)\u001b[0m\n\u001b[1;32m      1\u001b[0m \u001b[38;5;28;01mdef\u001b[39;00m \u001b[38;5;21mrun_batch\u001b[39m(x):\n\u001b[0;32m----> 2\u001b[0m         labels \u001b[38;5;241m=\u001b[39m (\u001b[43mx\u001b[49m\u001b[43m[\u001b[49m\u001b[43m:\u001b[49m\u001b[43m,\u001b[49m\u001b[43m \u001b[49m\u001b[38;5;241;43m0\u001b[39;49m\u001b[43m]\u001b[49m\u001b[43m \u001b[49m\u001b[38;5;241;43m+\u001b[39;49m\u001b[43m \u001b[49m\u001b[43mx\u001b[49m\u001b[43m[\u001b[49m\u001b[43m:\u001b[49m\u001b[43m,\u001b[49m\u001b[43m \u001b[49m\u001b[38;5;241;43m1\u001b[39;49m\u001b[43m]\u001b[49m) \u001b[38;5;241m%\u001b[39m q\n\u001b[1;32m      3\u001b[0m         y_preds \u001b[38;5;241m=\u001b[39m Clock(x)\n\u001b[1;32m      5\u001b[0m         loss \u001b[38;5;241m=\u001b[39m loss_fn(y_preds, labels)\n",
      "\u001b[0;31mRuntimeError\u001b[0m: CUDA error: device-side assert triggered\nCUDA kernel errors might be asynchronously reported at some other API call, so the stacktrace below might be incorrect.\nFor debugging consider passing CUDA_LAUNCH_BLOCKING=1.\nCompile with `TORCH_USE_CUDA_DSA` to enable device-side assertions.\n"
     ]
    }
   ],
   "source": [
    "run_batch(dataset)"
   ]
  }
 ],
 "metadata": {
  "kernelspec": {
   "display_name": "Python 3 (ipykernel)",
   "language": "python",
   "name": "python3"
  },
  "language_info": {
   "codemirror_mode": {
    "name": "ipython",
    "version": 3
   },
   "file_extension": ".py",
   "mimetype": "text/x-python",
   "name": "python",
   "nbconvert_exporter": "python",
   "pygments_lexer": "ipython3",
   "version": "3.10.13"
  }
 },
 "nbformat": 4,
 "nbformat_minor": 5
}
