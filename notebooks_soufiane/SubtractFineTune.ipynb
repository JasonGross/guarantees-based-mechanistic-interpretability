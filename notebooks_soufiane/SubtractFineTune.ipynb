{
 "cells": [
  {
   "cell_type": "code",
   "execution_count": 1,
   "id": "015b0e60-ac37-4e93-9629-db5a67614df6",
   "metadata": {},
   "outputs": [],
   "source": [
    "from gbmi.exp_modular_fine_tuning.train import MODULAR_ADDITION_113_CLOCK_CONFIG\n",
    "from gbmi.exp_modular_fine_tuning.train import MODULAR_ADDITION_113_PIZZA_CONFIG\n",
    "from gbmi.exp_modular_fine_tuning.train import ModularFineTuningTrainingWrapper\n",
    "from gbmi.exp_modular_fine_tuning.train import modular_addition_config\n",
    "from gbmi.model import train_or_load_model\n",
    "import torch\n",
    "import einops\n",
    "from torch import tensor\n",
    "from math import *\n",
    "device = 'cuda'"
   ]
  },
  {
   "cell_type": "code",
   "execution_count": 2,
   "id": "3b42ff4e-af95-4361-8690-ca3897f61928",
   "metadata": {},
   "outputs": [],
   "source": [
    "%load_ext autoreload\n",
    "%autoreload 2"
   ]
  },
  {
   "cell_type": "code",
   "execution_count": null,
   "id": "9769f78d-69ba-49eb-ac0a-5014490ac677",
   "metadata": {},
   "outputs": [],
   "source": [
    "config_clock = modular_addition_config(0)\n",
    "config_pizza = modular_addition_config(1)\n",
    "runtime_clock, model_clock = train_or_load_model(config_clock)\n",
    "runtime_pizza, model_pizza = train_or_load_model(config_pizza)\n",
    "model_clock.to(device)\n",
    "model_pizza.to(device)"
   ]
  },
  {
   "cell_type": "code",
   "execution_count": null,
   "id": "c5b1e1a1-c8a0-4272-95f3-7facea49697c",
   "metadata": {},
   "outputs": [],
   "source": [
    "def loss_fn(logits,labels):\n",
    "    print(logits.shape)\n",
    "    if len(logits.shape)==3:\n",
    "        logits = logits[:,:, -1]\n",
    "    logits = logits.to(torch.float64)\n",
    "    log_probs = logits.log_softmax(dim=-1)\n",
    "    correct_log_probs = log_probs.gather(dim=-1, index=labels[:, None])[:, 0]\n",
    "    return -correct_log_probs.mean()"
   ]
  },
  {
   "cell_type": "code",
   "execution_count": 21,
   "id": "aad1aab3-8e6a-42a6-807e-0a90af8d25db",
   "metadata": {},
   "outputs": [],
   "source": [
    "p=config_clock.experiment.p"
   ]
  },
  {
   "cell_type": "code",
   "execution_count": 17,
   "id": "656ce163-a299-4179-b338-bb05cdad7e15",
   "metadata": {},
   "outputs": [
    {
     "ename": "RuntimeError",
     "evalue": "CUDA error: device-side assert triggered\nCUDA kernel errors might be asynchronously reported at some other API call, so the stacktrace below might be incorrect.\nFor debugging consider passing CUDA_LAUNCH_BLOCKING=1.\nCompile with `TORCH_USE_CUDA_DSA` to enable device-side assertions.\n",
     "output_type": "error",
     "traceback": [
      "\u001b[0;31m---------------------------------------------------------------------------\u001b[0m",
      "\u001b[0;31mRuntimeError\u001b[0m                              Traceback (most recent call last)",
      "Cell \u001b[0;32mIn[17], line 4\u001b[0m\n\u001b[1;32m      2\u001b[0m b_vector \u001b[38;5;241m=\u001b[39m einops\u001b[38;5;241m.\u001b[39mrepeat(torch\u001b[38;5;241m.\u001b[39marange(p), \u001b[38;5;124m\"\u001b[39m\u001b[38;5;124mj -> (i j)\u001b[39m\u001b[38;5;124m\"\u001b[39m, i\u001b[38;5;241m=\u001b[39mp)\n\u001b[1;32m      3\u001b[0m equals_vector \u001b[38;5;241m=\u001b[39m einops\u001b[38;5;241m.\u001b[39mrepeat(torch\u001b[38;5;241m.\u001b[39mtensor(p), \u001b[38;5;124m\"\u001b[39m\u001b[38;5;124m -> (i j)\u001b[39m\u001b[38;5;124m\"\u001b[39m, i\u001b[38;5;241m=\u001b[39mp, j\u001b[38;5;241m=\u001b[39mp)\n\u001b[0;32m----> 4\u001b[0m dataset \u001b[38;5;241m=\u001b[39m \u001b[43mtorch\u001b[49m\u001b[38;5;241;43m.\u001b[39;49m\u001b[43mstack\u001b[49m\u001b[43m(\u001b[49m\u001b[43m[\u001b[49m\u001b[43ma_vector\u001b[49m\u001b[43m,\u001b[49m\u001b[43m \u001b[49m\u001b[43mb_vector\u001b[49m\u001b[43m,\u001b[49m\u001b[43m \u001b[49m\u001b[43mequals_vector\u001b[49m\u001b[43m]\u001b[49m\u001b[43m,\u001b[49m\u001b[43m \u001b[49m\u001b[43mdim\u001b[49m\u001b[38;5;241;43m=\u001b[39;49m\u001b[38;5;241;43m1\u001b[39;49m\u001b[43m)\u001b[49m\u001b[38;5;241;43m.\u001b[39;49m\u001b[43mto\u001b[49m\u001b[43m(\u001b[49m\u001b[43mdevice\u001b[49m\u001b[43m)\u001b[49m\n\u001b[1;32m      5\u001b[0m \u001b[38;5;28mprint\u001b[39m(dataset\u001b[38;5;241m.\u001b[39mshape)\n",
      "\u001b[0;31mRuntimeError\u001b[0m: CUDA error: device-side assert triggered\nCUDA kernel errors might be asynchronously reported at some other API call, so the stacktrace below might be incorrect.\nFor debugging consider passing CUDA_LAUNCH_BLOCKING=1.\nCompile with `TORCH_USE_CUDA_DSA` to enable device-side assertions.\n"
     ]
    }
   ],
   "source": [
    "a_vector = einops.repeat(torch.arange(p), \"i -> (i j)\", j=p)\n",
    "b_vector = einops.repeat(torch.arange(p), \"j -> (i j)\", i=p)\n",
    "equals_vector = einops.repeat(torch.tensor(p), \" -> (i j)\", i=p, j=p)\n",
    "dataset = torch.stack([a_vector, b_vector, equals_vector], dim=1).to(device)\n",
    "print(dataset.shape)"
   ]
  },
  {
   "cell_type": "code",
   "execution_count": 10,
   "id": "11830c97-e830-48ed-8bfd-0fbb7a4d09ac",
   "metadata": {},
   "outputs": [],
   "source": [
    "optim_pizza = torch.optim.AdamW(model_pizza.parameters())\n",
    "optim_clock = torch.optim.AdamW(model_clock.parameters())\n"
   ]
  },
  {
   "cell_type": "code",
   "execution_count": 15,
   "id": "b2c93fb7-73f8-48ab-a6ad-d26dca189648",
   "metadata": {},
   "outputs": [
    {
     "ename": "RuntimeError",
     "evalue": "CUDA error: device-side assert triggered\nCUDA kernel errors might be asynchronously reported at some other API call, so the stacktrace below might be incorrect.\nFor debugging consider passing CUDA_LAUNCH_BLOCKING=1.\nCompile with `TORCH_USE_CUDA_DSA` to enable device-side assertions.\n",
     "output_type": "error",
     "traceback": [
      "\u001b[0;31m---------------------------------------------------------------------------\u001b[0m",
      "\u001b[0;31mRuntimeError\u001b[0m                              Traceback (most recent call last)",
      "Cell \u001b[0;32mIn[15], line 16\u001b[0m\n\u001b[1;32m     14\u001b[0m         optim_clock\u001b[38;5;241m.\u001b[39mzero_grad()\n\u001b[1;32m     15\u001b[0m         \u001b[38;5;28;01mreturn\u001b[39;00m \u001b[38;5;124mf\u001b[39m\u001b[38;5;124m\"\u001b[39m\u001b[38;5;124mloss_clock \u001b[39m\u001b[38;5;132;01m{\u001b[39;00mloss_clock\u001b[38;5;132;01m}\u001b[39;00m\u001b[38;5;124m loss_pizza \u001b[39m\u001b[38;5;132;01m{\u001b[39;00mloss_pizza\u001b[38;5;132;01m}\u001b[39;00m\u001b[38;5;124m\"\u001b[39m\n\u001b[0;32m---> 16\u001b[0m \u001b[43mrun_batch\u001b[49m\u001b[43m(\u001b[49m\u001b[43mdataset\u001b[49m\u001b[43m)\u001b[49m\n",
      "Cell \u001b[0;32mIn[15], line 2\u001b[0m, in \u001b[0;36mrun_batch\u001b[0;34m(x)\u001b[0m\n\u001b[1;32m      1\u001b[0m \u001b[38;5;28;01mdef\u001b[39;00m \u001b[38;5;21mrun_batch\u001b[39m(x):\n\u001b[0;32m----> 2\u001b[0m         labels \u001b[38;5;241m=\u001b[39m (\u001b[43mx\u001b[49m\u001b[43m[\u001b[49m\u001b[43m:\u001b[49m\u001b[43m,\u001b[49m\u001b[43m \u001b[49m\u001b[38;5;241;43m0\u001b[39;49m\u001b[43m]\u001b[49m\u001b[43m \u001b[49m\u001b[38;5;241;43m-\u001b[39;49m\u001b[43m \u001b[49m\u001b[43mx\u001b[49m\u001b[43m[\u001b[49m\u001b[43m:\u001b[49m\u001b[43m,\u001b[49m\u001b[43m \u001b[49m\u001b[38;5;241;43m1\u001b[39;49m\u001b[43m]\u001b[49m) \u001b[38;5;241m%\u001b[39m \u001b[38;5;241m113\u001b[39m\n\u001b[1;32m      4\u001b[0m         y_preds_pizza \u001b[38;5;241m=\u001b[39m model_pizza\u001b[38;5;241m.\u001b[39mrun_with_hooks(x)\n\u001b[1;32m      5\u001b[0m         y_preds_clock \u001b[38;5;241m=\u001b[39m model_clock(x)\n",
      "\u001b[0;31mRuntimeError\u001b[0m: CUDA error: device-side assert triggered\nCUDA kernel errors might be asynchronously reported at some other API call, so the stacktrace below might be incorrect.\nFor debugging consider passing CUDA_LAUNCH_BLOCKING=1.\nCompile with `TORCH_USE_CUDA_DSA` to enable device-side assertions.\n"
     ]
    }
   ],
   "source": [
    "def run_batch(x):\n",
    "        labels = (x[:, 0] - x[:, 1]) % p\n",
    "\n",
    "        y_preds_pizza = model_pizza.run_with_hooks(x)\n",
    "        y_preds_clock = model_clock(x)\n",
    "\n",
    "        loss_pizza = loss_fn(y_preds_pizza, labels)\n",
    "        loss_clock = loss_fn(y_preds_clock, labels)\n",
    "        loss_clock.backward()\n",
    "        loss_pizza.backward()\n",
    "        optim_pizza.step()\n",
    "        optim_pizza.zero_grad()\n",
    "        optim_clock.step()\n",
    "        optim_clock.zero_grad()\n",
    "        return f\"loss_clock {loss_clock} loss_pizza {loss_pizza}\"\n",
    "run_batch(dataset)"
   ]
  },
  {
   "cell_type": "code",
   "execution_count": null,
   "id": "a00d9afa-25fa-4fe0-9576-4d4c2730c8ba",
   "metadata": {},
   "outputs": [],
   "source": []
  }
 ],
 "metadata": {
  "kernelspec": {
   "display_name": "Python 3 (ipykernel)",
   "language": "python",
   "name": "python3"
  },
  "language_info": {
   "codemirror_mode": {
    "name": "ipython",
    "version": 3
   },
   "file_extension": ".py",
   "mimetype": "text/x-python",
   "name": "python",
   "nbconvert_exporter": "python",
   "pygments_lexer": "ipython3",
   "version": "3.10.13"
  }
 },
 "nbformat": 4,
 "nbformat_minor": 5
}
